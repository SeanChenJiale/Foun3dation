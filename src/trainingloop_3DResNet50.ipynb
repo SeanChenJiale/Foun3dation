{
 "cells": [
  {
   "cell_type": "code",
   "execution_count": 1,
   "metadata": {},
   "outputs": [],
   "source": [
    "#%% load required packages\n",
    "\n",
    "import os\n",
    "import sys\n",
    "import torch\n",
    "from torch.utils.tensorboard import SummaryWriter\n",
    "import numpy as np\n",
    "import monai\n",
    "from monai.data import DataLoader, ImageDataset\n",
    "from monai.transforms import (\n",
    "    EnsureChannelFirst,\n",
    "    Compose,\n",
    "    RandRotate90,\n",
    "    Resize,\n",
    "    ScaleIntensity,\n",
    ")\n",
    "from monai.networks.nets import Regressor\n",
    "from monai.networks.nets import ResNet\n",
    "import pandas as pd"
   ]
  },
  {
   "cell_type": "code",
   "execution_count": 16,
   "metadata": {},
   "outputs": [
    {
     "name": "stdout",
     "output_type": "stream",
     "text": [
      "validation data loader\n",
      "creating data loader\n"
     ]
    }
   ],
   "source": [
    "pin_memory = torch.cuda.is_available()\n",
    "device = torch.device(\"cuda\" if torch.cuda.is_available() else \"cpu\")\n",
    "\n",
    "df = pd.read_csv(\"./Metadata/IXI_cleaned.csv\")\n",
    "# IXI dataset as a demo, downloadable from https://brain-development.org/ixi-dataset/\n",
    "images = df['filepath']\n",
    "\n",
    "# ages of subjects\n",
    "ages = np.array(\n",
    "df['AGE']\n",
    ")\n",
    "    \n",
    "training_images_list= list(images[:480])\n",
    "test_images_list= list(images[-30:])\n",
    "training_ages_list= list(ages[:480])\n",
    "test_ages_list= list(ages[-30:])\n",
    "# Define transforms\n",
    "train_transforms = Compose([ScaleIntensity(), EnsureChannelFirst(), Resize((128,128,128)), RandRotate90()])\n",
    "\n",
    "val_transforms = Compose([ScaleIntensity(), EnsureChannelFirst(), Resize((128,128,128))])\n",
    "\n",
    "\n",
    "print(\"validation data loader\")\n",
    "# create a validation data loader\n",
    "val_ds = ImageDataset(image_files=training_images_list, labels=training_ages_list, transform=val_transforms)\n",
    "val_loader = DataLoader(val_ds, batch_size=8, num_workers=2, pin_memory=pin_memory)\n",
    "\n",
    "print(\"creating data loader\")\n",
    "# create a training data loader\n",
    "train_ds = ImageDataset(image_files=test_images_list, labels=test_ages_list, transform=train_transforms)\n",
    "train_loader = DataLoader(train_ds, batch_size=8, shuffle=True, num_workers=2, pin_memory=pin_memory)\n",
    "\n",
    "\n",
    "\n",
    "# Define parameters\n",
    "block_type = \"bottleneck\"  # or \"basic\"\n",
    "layers = [3, 4, 6, 3]  # Example for ResNet-50\n",
    "block_inplanes = [64, 128, 256, 512]  # Standard ResNet feature sizes\n",
    "spatial_dims = 3  # 3D images\n",
    "n_input_channels = 1  # MRI is grayscale (single-channel)\n",
    "conv1_t_size = 7\n",
    "conv1_t_stride = 2\n",
    "num_classes = 1  # Example: Binary classification\n",
    "\n",
    "# Instantiate ResNet for MRI images\n",
    "model = ResNet(\n",
    "    block=block_type,\n",
    "    layers=layers,\n",
    "    block_inplanes=block_inplanes,\n",
    "    spatial_dims=spatial_dims,\n",
    "    n_input_channels=n_input_channels,  # Set to 1 for MRI\n",
    "    conv1_t_size=conv1_t_size,\n",
    "    conv1_t_stride=conv1_t_stride,\n",
    "    num_classes=num_classes\n",
    ")\n",
    "# model = Regressor(in_shape=[1, 128,128,128], out_shape=1, channels=(16, 32, 64, 128, 256), strides=(2, 2, 2, 2))\n"
   ]
  },
  {
   "cell_type": "code",
   "execution_count": null,
   "metadata": {},
   "outputs": [
    {
     "name": "stdout",
     "output_type": "stream",
     "text": [
      "----------\n",
      "epoch 1/20\n"
     ]
    },
    {
     "name": "stderr",
     "output_type": "stream",
     "text": [
      "c:\\Users\\ruina\\anaconda3\\envs\\torch\\Lib\\site-packages\\torch\\_tensor.py:1648: UserWarning: Using a target size (torch.Size([8])) that is different to the input size (torch.Size([8, 1])). This will likely lead to incorrect results due to broadcasting. Please ensure they have the same size.\n",
      "  ret = func(*args, **kwargs)\n"
     ]
    },
    {
     "name": "stdout",
     "output_type": "stream",
     "text": [
      "1/3, train_loss: 3843.5923\n",
      "2/3, train_loss: 1824.7650\n",
      "3/3, train_loss: 2109.5896\n"
     ]
    },
    {
     "name": "stderr",
     "output_type": "stream",
     "text": [
      "c:\\Users\\ruina\\anaconda3\\envs\\torch\\Lib\\site-packages\\torch\\_tensor.py:1648: UserWarning: Using a target size (torch.Size([6])) that is different to the input size (torch.Size([6, 1])). This will likely lead to incorrect results due to broadcasting. Please ensure they have the same size.\n",
      "  ret = func(*args, **kwargs)\n"
     ]
    },
    {
     "name": "stdout",
     "output_type": "stream",
     "text": [
      "4/3, train_loss: 2422.0183\n",
      "epoch 1 average loss: 2549.9913\n",
      "----------\n",
      "epoch 2/20\n",
      "1/3, train_loss: 2255.4297\n",
      "2/3, train_loss: 1981.4802\n",
      "3/3, train_loss: 2674.0156\n",
      "4/3, train_loss: 2377.2507\n",
      "epoch 2 average loss: 2322.0441\n"
     ]
    }
   ],
   "source": [
    "\n",
    "if torch.cuda.is_available():\n",
    "    model.cuda()\n",
    "# It is important that we use nn.MSELoss for regression.\n",
    "loss_function = torch.nn.MSELoss()\n",
    "\n",
    "optimizer = torch.optim.Adam(model.parameters(), 1e-4)\n",
    "\n",
    "# start a typical PyTorch training\n",
    "val_interval = 2\n",
    "best_metric = -1\n",
    "best_metric_epoch = -1\n",
    "epoch_loss_values = []\n",
    "metric_values = []\n",
    "val_loss_values = []\n",
    "writer = SummaryWriter()\n",
    "max_epochs = 20\n",
    "\n",
    "lowest_mse= sys.float_info.max\n",
    "for epoch in range(max_epochs):\n",
    "    print(\"-\" * 10)\n",
    "    print(f\"epoch {epoch + 1}/{max_epochs}\")\n",
    "    model.train()\n",
    "    epoch_loss = 0\n",
    "    step = 0\n",
    "\n",
    "    for batch_data in train_loader:\n",
    "        step += 1\n",
    "        inputs, labels = batch_data[0].to(device), batch_data[1].to(device)\n",
    "        optimizer.zero_grad()\n",
    "        outputs = model(inputs)\n",
    "        loss = loss_function(outputs, labels.float())\n",
    "        loss.backward()\n",
    "        optimizer.step()\n",
    "        epoch_loss += loss.item()\n",
    "        epoch_len = len(train_ds) // train_loader.batch_size\n",
    "        print(f\"{step}/{epoch_len}, train_loss: {loss.item():.4f}\")\n",
    "        writer.add_scalar(\"train_loss\", loss.item(), epoch_len * epoch + step)\n",
    "\n",
    "    epoch_loss /= step\n",
    "    epoch_loss_values.append(epoch_loss)\n",
    "    print(f\"epoch {epoch + 1} average loss: {epoch_loss:.4f}\")\n",
    "\n",
    "    if (epoch + 1) % val_interval == 0:\n",
    "        model.eval()\n",
    "        all_labels = []\n",
    "        all_val_outputs = []\n",
    "        for val_data in val_loader:\n",
    "            val_images, val_labels = val_data[0].to(device), val_data[1].to(device)\n",
    "            all_labels.extend(val_labels.cpu().detach().numpy())\n",
    "            with torch.no_grad():\n",
    "                val_outputs = model(val_images)\n",
    "                flattened_val_outputs = [val for sublist in val_outputs.cpu().detach().numpy() for val in sublist]\n",
    "                all_val_outputs.extend(flattened_val_outputs)\n",
    "\n",
    "        mse = np.absolute(np.subtract(all_labels, all_val_outputs)).mean()\n",
    "        val_loss_values.append(mse)\n",
    "\n",
    "        if mse < lowest_mse:\n",
    "            lowest_mse = mse\n",
    "            lowest_mse_epoch = epoch + 1\n",
    "            torch.save(model.state_dict(), \"best_metric_model_classification3d_array.pth\")\n",
    "            print(\"saved new best metric model\")\n",
    "\n",
    "        print(f\"Current epoch: {epoch+1} current MAE: {mse:.4f} \")\n",
    "        print(f\"Best MAE: {lowest_mse:.4f} at epoch {lowest_mse_epoch}\")\n",
    "        writer.add_scalar(\"val_mae\", mse, epoch + 1)\n",
    "\n",
    "print(f\"Training completed, lowest_mae: {lowest_mse:.4f} at epoch: {lowest_mse_epoch}\")\n",
    "writer.close()\n",
    "\n",
    "\n",
    "# %%\n"
   ]
  },
  {
   "cell_type": "code",
   "execution_count": 19,
   "metadata": {},
   "outputs": [
    {
     "data": {
      "text/plain": [
       "[<matplotlib.lines.Line2D at 0x2c7828209e0>]"
      ]
     },
     "execution_count": 19,
     "metadata": {},
     "output_type": "execute_result"
    },
    {
     "data": {
      "image/png": "[encoded data removed]",
      "text/plain": [
       "<Figure size 640x480 with 1 Axes>"
      ]
     },
     "metadata": {},
     "output_type": "display_data"
    }
   ],
   "source": [
    "import matplotlib.pyplot as plt\n",
    "plt.plot(epoch_loss_values)\n",
    "\n"
   ]
  },
  {
   "cell_type": "code",
   "execution_count": 20,
   "metadata": {},
   "outputs": [
    {
     "data": {
      "text/plain": [
       "[<matplotlib.lines.Line2D at 0x2c782b1a420>]"
      ]
     },
     "execution_count": 20,
     "metadata": {},
     "output_type": "execute_result"
    },
    {
     "data": {
      "image/png": "[encoded data removed]",
      "text/plain": [
       "<Figure size 640x480 with 1 Axes>"
      ]
     },
     "metadata": {},
     "output_type": "display_data"
    }
   ],
   "source": [
    "plt.plot(val_loss_values)"
   ]
  }
 ],
 "metadata": {
  "kernelspec": {
   "display_name": "torch",
   "language": "python",
   "name": "python3"
  },
  "language_info": {
   "codemirror_mode": {
    "name": "ipython",
    "version": 3
   },
   "file_extension": ".py",
   "mimetype": "text/x-python",
   "name": "python",
   "nbconvert_exporter": "python",
   "pygments_lexer": "ipython3",
   "version": "3.12.7"
  }
 },
 "nbformat": 4,
 "nbformat_minor": 2
}
